{
  "nbformat": 4,
  "nbformat_minor": 0,
  "metadata": {
    "colab": {
      "provenance": [],
      "authorship_tag": "ABX9TyPTISSO2qI99K7MMrjQh7O3",
      "include_colab_link": true
    },
    "kernelspec": {
      "name": "python3",
      "display_name": "Python 3"
    },
    "language_info": {
      "name": "python"
    }
  },
  "cells": [
    {
      "cell_type": "markdown",
      "metadata": {
        "id": "view-in-github",
        "colab_type": "text"
      },
      "source": [
        "<a href=\"https://colab.research.google.com/github/JHS2025/Homework/blob/main/84strreplace_85strzfill.ipynb\" target=\"_parent\"><img src=\"https://colab.research.google.com/assets/colab-badge.svg\" alt=\"Open In Colab\"/></a>"
      ]
    },
    {
      "cell_type": "code",
      "execution_count": null,
      "metadata": {
        "colab": {
          "base_uri": "https://localhost:8080/"
        },
        "id": "4IPCBXJ1ic8D",
        "outputId": "7a782853-9c3a-4cae-b521-b7398dc9f85a"
      },
      "outputs": [
        {
          "output_type": "stream",
          "name": "stdout",
          "text": [
            "텍스트: 파이썬에서 시퀀스 자료 중 하나임\n"
          ]
        }
      ],
      "source": [
        "text = '문자열: 파이썬에서 시퀀스 자료 중 하나임'\n",
        "ret = text.replace('문자열','텍스트')\n",
        "print(ret)"
      ]
    },
    {
      "cell_type": "code",
      "source": [
        "text = '매일 많은 일들이 일어납니다'\n",
        "ret=text.replace('일','사건')\n",
        "print(ret)"
      ],
      "metadata": {
        "colab": {
          "base_uri": "https://localhost:8080/"
        },
        "id": "LDn9NA-xir0h",
        "outputId": "cfc874ad-5be1-4702-d1f7-95061ff06599"
      },
      "execution_count": null,
      "outputs": [
        {
          "output_type": "stream",
          "name": "stdout",
          "text": [
            "매사건 많은 사건들이 사건어납니다\n"
          ]
        }
      ]
    },
    {
      "cell_type": "code",
      "source": [
        "numData = ['5','27','342','1004']\n",
        "for numstr in numData:\n",
        "  ret = numstr.zfill(4)\n",
        "  print(ret)"
      ],
      "metadata": {
        "colab": {
          "base_uri": "https://localhost:8080/"
        },
        "id": "eJcUsW-9i8dR",
        "outputId": "6769d724-3c30-4b65-81a1-9833158b7c2e"
      },
      "execution_count": null,
      "outputs": [
        {
          "output_type": "stream",
          "name": "stdout",
          "text": [
            "0005\n",
            "0027\n",
            "0342\n",
            "1004\n"
          ]
        }
      ]
    },
    {
      "cell_type": "code",
      "source": [
        "numData = ['-5','-27','-342','-1004']\n",
        "for numstr in numData:\n",
        "  ret = numstr.zfill(4)\n",
        "  print(ret)"
      ],
      "metadata": {
        "colab": {
          "base_uri": "https://localhost:8080/"
        },
        "id": "0Vs3T_F3jJrK",
        "outputId": "4d4dad02-91ba-48ea-f474-3fa15b705435"
      },
      "execution_count": null,
      "outputs": [
        {
          "output_type": "stream",
          "name": "stdout",
          "text": [
            "-005\n",
            "-027\n",
            "-342\n",
            "-1004\n"
          ]
        }
      ]
    }
  ]
}