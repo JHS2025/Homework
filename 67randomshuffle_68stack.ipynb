{
  "nbformat": 4,
  "nbformat_minor": 0,
  "metadata": {
    "colab": {
      "provenance": [],
      "authorship_tag": "ABX9TyPb96jyklwx2pRJUJaTY2Jd",
      "include_colab_link": true
    },
    "kernelspec": {
      "name": "python3",
      "display_name": "Python 3"
    },
    "language_info": {
      "name": "python"
    }
  },
  "cells": [
    {
      "cell_type": "markdown",
      "metadata": {
        "id": "view-in-github",
        "colab_type": "text"
      },
      "source": [
        "<a href=\"https://colab.research.google.com/github/JHS2025/Homework/blob/main/67randomshuffle_68stack.ipynb\" target=\"_parent\"><img src=\"https://colab.research.google.com/assets/colab-badge.svg\" alt=\"Open In Colab\"/></a>"
      ]
    },
    {
      "cell_type": "code",
      "execution_count": null,
      "metadata": {
        "colab": {
          "base_uri": "https://localhost:8080/"
        },
        "id": "dyNFKn5352aZ",
        "outputId": "31e9e4f9-90b0-42e4-e52a-3852adf80a75"
      },
      "outputs": [
        {
          "output_type": "stream",
          "name": "stdout",
          "text": [
            "[1, 6, 9, 7, 3, 8, 5, 10, 2, 4]\n"
          ]
        }
      ],
      "source": [
        "import random\n",
        "numList = list(range(1,11))\n",
        "random.shuffle(numList)\n",
        "print(numList)"
      ]
    },
    {
      "cell_type": "code",
      "source": [
        "numList = list(range(1,11))\n",
        "copied = numList.copy()\n",
        "random.shuffle(copied)\n",
        "print(f'numList: {numList}')\n",
        "print(f'copied: {copied}')"
      ],
      "metadata": {
        "colab": {
          "base_uri": "https://localhost:8080/"
        },
        "id": "MXvktwS_594O",
        "outputId": "8a5a5f54-73bc-4dfc-9594-1bd2876e0a99"
      },
      "execution_count": null,
      "outputs": [
        {
          "output_type": "stream",
          "name": "stdout",
          "text": [
            "numList: [1, 2, 3, 4, 5, 6, 7, 8, 9, 10]\n",
            "copied: [4, 6, 3, 5, 1, 10, 2, 9, 7, 8]\n"
          ]
        }
      ]
    },
    {
      "cell_type": "code",
      "source": [
        "mystack = []"
      ],
      "metadata": {
        "id": "2MBYJg236Isz"
      },
      "execution_count": null,
      "outputs": []
    },
    {
      "cell_type": "code",
      "source": [
        "def putData(data):\n",
        "  mystack.append(data)"
      ],
      "metadata": {
        "id": "Q_UYG4N86bHx"
      },
      "execution_count": null,
      "outputs": []
    },
    {
      "cell_type": "code",
      "source": [
        "def popData():\n",
        "  if len(mystack) == 0:\n",
        "    return None\n",
        "  return mystack.pop()"
      ],
      "metadata": {
        "id": "YGyvF2rD6fMp"
      },
      "execution_count": null,
      "outputs": []
    },
    {
      "cell_type": "code",
      "source": [
        "putData('사과')\n",
        "putData([1,2,3])\n",
        "putData(3.141592)\n",
        "print(f'스택상태:{mystack}')"
      ],
      "metadata": {
        "colab": {
          "base_uri": "https://localhost:8080/"
        },
        "id": "YRIjdukQ6nEx",
        "outputId": "e2d21408-9517-459e-9afb-60aaa4d1c5d6"
      },
      "execution_count": null,
      "outputs": [
        {
          "output_type": "stream",
          "name": "stdout",
          "text": [
            "스택상태:['사과', [1, 2, 3], 3.141592]\n"
          ]
        }
      ]
    },
    {
      "cell_type": "code",
      "source": [
        "ret = popData()\n",
        "while ret != None:\n",
        "  print(f'스택에서 데이터 추출:{ret}')\n",
        "  print(f'스택상태:{mystack}')\n",
        "  print('--------------------')\n",
        "  ret = popData()"
      ],
      "metadata": {
        "colab": {
          "base_uri": "https://localhost:8080/"
        },
        "id": "1Ag85nk06xVp",
        "outputId": "6750b199-32fe-48ac-a07e-f07abc339b42"
      },
      "execution_count": null,
      "outputs": [
        {
          "output_type": "stream",
          "name": "stdout",
          "text": [
            "스택에서 데이터 추출:3.141592\n",
            "스택상태:['사과', [1, 2, 3]]\n",
            "--------------------\n",
            "스택에서 데이터 추출:[1, 2, 3]\n",
            "스택상태:['사과']\n",
            "--------------------\n",
            "스택에서 데이터 추출:사과\n",
            "스택상태:[]\n",
            "--------------------\n"
          ]
        }
      ]
    }
  ]
}