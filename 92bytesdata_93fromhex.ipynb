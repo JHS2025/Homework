{
  "nbformat": 4,
  "nbformat_minor": 0,
  "metadata": {
    "colab": {
      "provenance": [],
      "authorship_tag": "ABX9TyO84TYMd4o8WQ1Pxqmr4YFm",
      "include_colab_link": true
    },
    "kernelspec": {
      "name": "python3",
      "display_name": "Python 3"
    },
    "language_info": {
      "name": "python"
    }
  },
  "cells": [
    {
      "cell_type": "markdown",
      "metadata": {
        "id": "view-in-github",
        "colab_type": "text"
      },
      "source": [
        "<a href=\"https://colab.research.google.com/github/JHS2025/Homework/blob/main/92bytesdata_93fromhex.ipynb\" target=\"_parent\"><img src=\"https://colab.research.google.com/assets/colab-badge.svg\" alt=\"Open In Colab\"/></a>"
      ]
    },
    {
      "cell_type": "code",
      "execution_count": null,
      "metadata": {
        "colab": {
          "base_uri": "https://localhost:8080/"
        },
        "id": "p9znMAz9nVCB",
        "outputId": "413b6907-a4f9-4367-b030-a621b7e8a251"
      },
      "outputs": [
        {
          "output_type": "stream",
          "name": "stdout",
          "text": [
            "False\n"
          ]
        }
      ],
      "source": [
        "strData='python'\n",
        "bytesData = b'python'\n",
        "print(strData[0]==bytesData[0])"
      ]
    },
    {
      "cell_type": "code",
      "source": [
        "bytesData1 = b'python'\n",
        "bytesData2 = b'파이썬'"
      ],
      "metadata": {
        "colab": {
          "base_uri": "https://localhost:8080/",
          "height": 110
        },
        "id": "o8mYVkTUnf-5",
        "outputId": "f353dbe4-1d13-4980-835e-d5c7deca62a0"
      },
      "execution_count": null,
      "outputs": [
        {
          "output_type": "error",
          "ename": "SyntaxError",
          "evalue": "bytes can only contain ASCII literal characters (ipython-input-1563447335.py, line 2)",
          "traceback": [
            "\u001b[0;36m  File \u001b[0;32m\"/tmp/ipython-input-1563447335.py\"\u001b[0;36m, line \u001b[0;32m2\u001b[0m\n\u001b[0;31m    bytesData2 = b'파이썬'\u001b[0m\n\u001b[0m                 ^\u001b[0m\n\u001b[0;31mSyntaxError\u001b[0m\u001b[0;31m:\u001b[0m bytes can only contain ASCII literal characters\n"
          ]
        }
      ]
    },
    {
      "cell_type": "code",
      "source": [
        "bytesData = '파이썬'.encode\n",
        "print(bytesData)"
      ],
      "metadata": {
        "colab": {
          "base_uri": "https://localhost:8080/"
        },
        "id": "lYSKMmGunmFP",
        "outputId": "0e227687-f002-4f72-c589-95795d30016b"
      },
      "execution_count": null,
      "outputs": [
        {
          "output_type": "stream",
          "name": "stdout",
          "text": [
            "<built-in method encode of str object at 0x7b0ce55c6c90>\n"
          ]
        }
      ]
    },
    {
      "cell_type": "code",
      "source": [
        "bytesData = bytes('사랑해요 python!','utf-8')\n",
        "print(bytesData)"
      ],
      "metadata": {
        "colab": {
          "base_uri": "https://localhost:8080/"
        },
        "id": "ERYvG5jbnte3",
        "outputId": "612611a1-9ae5-499f-ca86-df9072c7d405"
      },
      "execution_count": null,
      "outputs": [
        {
          "output_type": "stream",
          "name": "stdout",
          "text": [
            "b'\\xec\\x82\\xac\\xeb\\x9e\\x91\\xed\\x95\\xb4\\xec\\x9a\\x94 python!'\n"
          ]
        }
      ]
    },
    {
      "cell_type": "code",
      "source": [
        "bytesData=bytes.fromhex('50 79 74 68 6f 6e f8 fa')\n",
        "print(bytesData)"
      ],
      "metadata": {
        "colab": {
          "base_uri": "https://localhost:8080/"
        },
        "id": "vPa2YL1bn5L4",
        "outputId": "744879bd-07aa-4b52-813d-5aa3eaa6275e"
      },
      "execution_count": null,
      "outputs": [
        {
          "output_type": "stream",
          "name": "stdout",
          "text": [
            "b'Python\\xf8\\xfa'\n"
          ]
        }
      ]
    }
  ]
}