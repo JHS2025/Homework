{
  "nbformat": 4,
  "nbformat_minor": 0,
  "metadata": {
    "colab": {
      "provenance": [],
      "authorship_tag": "ABX9TyOavKs7MwlFNZMBODmW8bdy",
      "include_colab_link": true
    },
    "kernelspec": {
      "name": "python3",
      "display_name": "Python 3"
    },
    "language_info": {
      "name": "python"
    }
  },
  "cells": [
    {
      "cell_type": "markdown",
      "metadata": {
        "id": "view-in-github",
        "colab_type": "text"
      },
      "source": [
        "<a href=\"https://colab.research.google.com/github/JHS2025/Homework/blob/main/23comparisonoperator_24logicaloperator.ipynb\" target=\"_parent\"><img src=\"https://colab.research.google.com/assets/colab-badge.svg\" alt=\"Open In Colab\"/></a>"
      ]
    },
    {
      "cell_type": "code",
      "execution_count": null,
      "metadata": {
        "colab": {
          "base_uri": "https://localhost:8080/"
        },
        "id": "Cgd52OioOqx5",
        "outputId": "46d6f40f-3b34-44fd-d998-d50b46965e10"
      },
      "outputs": [
        {
          "output_type": "stream",
          "name": "stdout",
          "text": [
            "False\n",
            "True\n",
            "False\n",
            "True\n",
            "True\n"
          ]
        }
      ],
      "source": [
        "x = 1; y = 2\n",
        "strData1 = 'Hello'; strData2 = 'python'\n",
        "print(x == y)\n",
        "print(x != y)\n",
        "print(strData1 == strData2)\n",
        "print(strData2 == 'python')\n",
        "print(strData1 < strData2)"
      ]
    },
    {
      "cell_type": "code",
      "source": [
        "x = 1;y = 2\n",
        "strData1 = 'Hello';strData2 = 'python'\n",
        "flag1 = x == y\n",
        "flag2 = x < y\n",
        "flag3 = strData1 != strData2\n",
        "flag4 = strData1 > strData2\n",
        "\n",
        "print(flag1 and flag2)\n",
        "print(flag2 and flag3)\n",
        "print(flag3 or flag4)\n",
        "print(flag1 or flag4)\n",
        "print(not flag1)\n",
        "print(not flag2)\n"
      ],
      "metadata": {
        "colab": {
          "base_uri": "https://localhost:8080/"
        },
        "id": "a26CmnwtPLPi",
        "outputId": "05638eab-12db-4091-a0c9-5b680a6f1b91"
      },
      "execution_count": null,
      "outputs": [
        {
          "output_type": "stream",
          "name": "stdout",
          "text": [
            "False\n",
            "True\n",
            "True\n",
            "False\n",
            "True\n",
            "False\n"
          ]
        }
      ]
    }
  ]
}