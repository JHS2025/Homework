{
  "nbformat": 4,
  "nbformat_minor": 0,
  "metadata": {
    "colab": {
      "provenance": [],
      "authorship_tag": "ABX9TyMHr+6Gu3Wp2HXnaNQAi4aW",
      "include_colab_link": true
    },
    "kernelspec": {
      "name": "python3",
      "display_name": "Python 3"
    },
    "language_info": {
      "name": "python"
    }
  },
  "cells": [
    {
      "cell_type": "markdown",
      "metadata": {
        "id": "view-in-github",
        "colab_type": "text"
      },
      "source": [
        "<a href=\"https://colab.research.google.com/github/JHS2025/Homework/blob/main/90strremove_91encode.ipynb\" target=\"_parent\"><img src=\"https://colab.research.google.com/assets/colab-badge.svg\" alt=\"Open In Colab\"/></a>"
      ]
    },
    {
      "cell_type": "code",
      "execution_count": null,
      "metadata": {
        "colab": {
          "base_uri": "https://localhost:8080/"
        },
        "id": "Dw4fBbowmSOq",
        "outputId": "b4a946bc-80c4-40b0-8315-d087eb626252"
      },
      "outputs": [
        {
          "output_type": "stream",
          "name": "stdout",
          "text": [
            "Seoul is the capital of Korea\n"
          ]
        }
      ],
      "source": [
        "strData = '[info]Seoul is the capital of Korea'\n",
        "cityinfo = strData.removeprefix('[info]')\n",
        "print(cityinfo)"
      ]
    },
    {
      "cell_type": "code",
      "source": [
        "strData = '이것으로 문장을 마무리합니다.<EOD>'\n",
        "ret = strData.removesuffix('<EOD>')\n",
        "print(ret)"
      ],
      "metadata": {
        "colab": {
          "base_uri": "https://localhost:8080/"
        },
        "id": "HUxL9ex4mc2Q",
        "outputId": "beb9886e-034d-4d22-ffd1-a3c4197e15a7"
      },
      "execution_count": null,
      "outputs": [
        {
          "output_type": "stream",
          "name": "stdout",
          "text": [
            "이것으로 문장을 마무리합니다.\n"
          ]
        }
      ]
    },
    {
      "cell_type": "code",
      "source": [
        "strData = 'python'\n",
        "byteData = strData.encode()\n",
        "print(byteData)"
      ],
      "metadata": {
        "colab": {
          "base_uri": "https://localhost:8080/"
        },
        "id": "7N1Z1wBqmqCI",
        "outputId": "744be5cb-730f-4a0a-fa58-9af4535835d5"
      },
      "execution_count": null,
      "outputs": [
        {
          "output_type": "stream",
          "name": "stdout",
          "text": [
            "b'python'\n"
          ]
        }
      ]
    },
    {
      "cell_type": "code",
      "source": [
        "for idx, c in enumerate(strData):\n",
        "  print(f'strData[{idx}]={c}')"
      ],
      "metadata": {
        "colab": {
          "base_uri": "https://localhost:8080/"
        },
        "id": "UvxnGdAMm1qX",
        "outputId": "d7e84ba2-8e55-40aa-d9e7-9344c098c8cb"
      },
      "execution_count": null,
      "outputs": [
        {
          "output_type": "stream",
          "name": "stdout",
          "text": [
            "strData[0]=p\n",
            "strData[1]=y\n",
            "strData[2]=t\n",
            "strData[3]=h\n",
            "strData[4]=o\n",
            "strData[5]=n\n"
          ]
        }
      ]
    },
    {
      "cell_type": "code",
      "source": [
        "for idx,c in enumerate(byteData):\n",
        "  print(f'byteData[{idx}]={c},{hex(c)}')"
      ],
      "metadata": {
        "colab": {
          "base_uri": "https://localhost:8080/"
        },
        "id": "aTfrY9nWm-tn",
        "outputId": "5bd67259-a89d-4149-abea-457647bfd2f0"
      },
      "execution_count": null,
      "outputs": [
        {
          "output_type": "stream",
          "name": "stdout",
          "text": [
            "byteData[0]=112,0x70\n",
            "byteData[1]=121,0x79\n",
            "byteData[2]=116,0x74\n",
            "byteData[3]=104,0x68\n",
            "byteData[4]=111,0x6f\n",
            "byteData[5]=110,0x6e\n"
          ]
        }
      ]
    },
    {
      "cell_type": "code",
      "source": [],
      "metadata": {
        "id": "o3xOiAf3nLco"
      },
      "execution_count": null,
      "outputs": []
    }
  ]
}