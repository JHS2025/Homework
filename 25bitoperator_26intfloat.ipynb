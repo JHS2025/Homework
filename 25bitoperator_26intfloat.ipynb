{
  "nbformat": 4,
  "nbformat_minor": 0,
  "metadata": {
    "colab": {
      "provenance": [],
      "authorship_tag": "ABX9TyMXsfiuM9S735RZ3FBg1cMq",
      "include_colab_link": true
    },
    "kernelspec": {
      "name": "python3",
      "display_name": "Python 3"
    },
    "language_info": {
      "name": "python"
    }
  },
  "cells": [
    {
      "cell_type": "markdown",
      "metadata": {
        "id": "view-in-github",
        "colab_type": "text"
      },
      "source": [
        "<a href=\"https://colab.research.google.com/github/JHS2025/Homework/blob/main/25bitoperator_26intfloat.ipynb\" target=\"_parent\"><img src=\"https://colab.research.google.com/assets/colab-badge.svg\" alt=\"Open In Colab\"/></a>"
      ]
    },
    {
      "cell_type": "code",
      "execution_count": null,
      "metadata": {
        "colab": {
          "base_uri": "https://localhost:8080/"
        },
        "id": "YSelG7JWSDQc",
        "outputId": "0fa3fd5d-03eb-4c43-b5bb-ef0ab3d0de0f"
      },
      "outputs": [
        {
          "output_type": "stream",
          "name": "stdout",
          "text": [
            "0x60\n",
            "0x63\n",
            "0x3\n",
            "0x30\n",
            "0x184\n"
          ]
        }
      ],
      "source": [
        "bit1 = 0x61;bit2 = 0x62\n",
        "print(hex(bit1 & bit2))\n",
        "print(hex(bit1 | bit2))\n",
        "print(hex(bit1 ^ bit2))\n",
        "print(hex(bit1 >> 1))\n",
        "print(hex(bit1 << 2))"
      ]
    },
    {
      "cell_type": "code",
      "source": [
        "byte1 = 0x6b\n",
        "lower_4bit = byte1 & 0x0f\n",
        "upper_4bit = (byte1 >> 4) & 0x0f\n",
        "print(hex(lower_4bit))\n",
        "print(hex(upper_4bit))"
      ],
      "metadata": {
        "colab": {
          "base_uri": "https://localhost:8080/"
        },
        "id": "CG5KmnQRTfYV",
        "outputId": "4ab65ce2-3de8-47ab-d549-ff24619018a5"
      },
      "execution_count": null,
      "outputs": [
        {
          "output_type": "stream",
          "name": "stdout",
          "text": [
            "0xb\n",
            "0x6\n"
          ]
        }
      ]
    },
    {
      "cell_type": "code",
      "source": [
        "intData1 = 5\n",
        "intData2 = 10\n",
        "ret = intData2 / intData1\n",
        "print(type(ret))"
      ],
      "metadata": {
        "colab": {
          "base_uri": "https://localhost:8080/"
        },
        "id": "rcEMN4NmT27E",
        "outputId": "1787a973-9cac-4c8d-b133-39e76287b0e3"
      },
      "execution_count": null,
      "outputs": [
        {
          "output_type": "stream",
          "name": "stdout",
          "text": [
            "<class 'float'>\n"
          ]
        }
      ]
    },
    {
      "cell_type": "code",
      "source": [
        "numData = 2e2\n",
        "print(type(numData))"
      ],
      "metadata": {
        "colab": {
          "base_uri": "https://localhost:8080/"
        },
        "id": "sn_QySPpU7Wq",
        "outputId": "c4d9a92b-4e5d-41a3-bff2-2934295c7a99"
      },
      "execution_count": null,
      "outputs": [
        {
          "output_type": "stream",
          "name": "stdout",
          "text": [
            "<class 'float'>\n"
          ]
        }
      ]
    }
  ]
}