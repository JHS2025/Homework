{
  "nbformat": 4,
  "nbformat_minor": 0,
  "metadata": {
    "colab": {
      "provenance": [],
      "authorship_tag": "ABX9TyPj8baqbGiaGWyKVe1QwIw7",
      "include_colab_link": true
    },
    "kernelspec": {
      "name": "python3",
      "display_name": "Python 3"
    },
    "language_info": {
      "name": "python"
    }
  },
  "cells": [
    {
      "cell_type": "markdown",
      "metadata": {
        "id": "view-in-github",
        "colab_type": "text"
      },
      "source": [
        "<a href=\"https://colab.research.google.com/github/JHS2025/Homework/blob/main/59listclear_60listcopy.ipynb\" target=\"_parent\"><img src=\"https://colab.research.google.com/assets/colab-badge.svg\" alt=\"Open In Colab\"/></a>"
      ]
    },
    {
      "cell_type": "code",
      "execution_count": null,
      "metadata": {
        "colab": {
          "base_uri": "https://localhost:8080/"
        },
        "id": "FmSpKDegtzzc",
        "outputId": "261b358d-7272-4b61-b0ce-b9d2207c52ac"
      },
      "outputs": [
        {
          "output_type": "stream",
          "name": "stdout",
          "text": [
            "[]\n"
          ]
        }
      ],
      "source": [
        "fruits = ['사과','배','오렌지','수박','참외']\n",
        "fruits.clear()\n",
        "print(fruits)"
      ]
    },
    {
      "cell_type": "code",
      "source": [
        "fruits = ['사과','배','오렌지','수박','참외']\n",
        "del fruits[:]\n",
        "print(fruits)"
      ],
      "metadata": {
        "colab": {
          "base_uri": "https://localhost:8080/"
        },
        "id": "XrqyDGf2wkYr",
        "outputId": "e6e92989-99b0-4b12-e3bd-f749cdc694dc"
      },
      "execution_count": null,
      "outputs": [
        {
          "output_type": "stream",
          "name": "stdout",
          "text": [
            "[]\n"
          ]
        }
      ]
    },
    {
      "cell_type": "code",
      "source": [
        "fruits = ['사과','배','오렌지','수박','참외']\n",
        "buffer = fruits.copy()\n",
        "del buffer[-1]\n",
        "print(f'원본 리스트:{fruits}')\n",
        "print(f'복사본 리스트:{buffer}')"
      ],
      "metadata": {
        "colab": {
          "base_uri": "https://localhost:8080/"
        },
        "id": "wT2pzStmwsqQ",
        "outputId": "89ba00ae-4731-446d-c5eb-9f800b462db6"
      },
      "execution_count": null,
      "outputs": [
        {
          "output_type": "stream",
          "name": "stdout",
          "text": [
            "원본 리스트:['사과', '배', '오렌지', '수박', '참외']\n",
            "복사본 리스트:['사과', '배', '오렌지', '수박']\n"
          ]
        }
      ]
    }
  ]
}