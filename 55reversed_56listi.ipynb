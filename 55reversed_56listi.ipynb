{
  "nbformat": 4,
  "nbformat_minor": 0,
  "metadata": {
    "colab": {
      "provenance": [],
      "authorship_tag": "ABX9TyM/yCd0XY2Iqr0Jp2So+76t",
      "include_colab_link": true
    },
    "kernelspec": {
      "name": "python3",
      "display_name": "Python 3"
    },
    "language_info": {
      "name": "python"
    }
  },
  "cells": [
    {
      "cell_type": "markdown",
      "metadata": {
        "id": "view-in-github",
        "colab_type": "text"
      },
      "source": [
        "<a href=\"https://colab.research.google.com/github/JHS2025/Homework/blob/main/55reversed_56listi.ipynb\" target=\"_parent\"><img src=\"https://colab.research.google.com/assets/colab-badge.svg\" alt=\"Open In Colab\"/></a>"
      ]
    },
    {
      "cell_type": "code",
      "execution_count": null,
      "metadata": {
        "colab": {
          "base_uri": "https://localhost:8080/"
        },
        "id": "6Mw2RoSOiP67",
        "outputId": "1733b619-14a2-4d73-a2de-f98cc4325746"
      },
      "outputs": [
        {
          "output_type": "stream",
          "name": "stdout",
          "text": [
            "['수박', '오렌지', '배', '사과']\n"
          ]
        }
      ],
      "source": [
        "fruits = ('사과','배','오렌지','수박')\n",
        "ret = reversed(fruits)\n",
        "print(list(ret))"
      ]
    },
    {
      "cell_type": "code",
      "source": [
        "print(fruits)"
      ],
      "metadata": {
        "colab": {
          "base_uri": "https://localhost:8080/"
        },
        "id": "QiyeHYXejFSz",
        "outputId": "54cde744-d10a-408c-b7ef-25f2a0a7f352"
      },
      "execution_count": null,
      "outputs": [
        {
          "output_type": "stream",
          "name": "stdout",
          "text": [
            "('사과', '배', '오렌지', '수박')\n"
          ]
        }
      ]
    },
    {
      "cell_type": "code",
      "source": [
        "for i in reversed(range(1,6)):\n",
        "  print(i)"
      ],
      "metadata": {
        "colab": {
          "base_uri": "https://localhost:8080/"
        },
        "id": "rS3X7BCYjMYB",
        "outputId": "ace103fd-1f20-458c-b3e3-341a01d5a87f"
      },
      "execution_count": null,
      "outputs": [
        {
          "output_type": "stream",
          "name": "stdout",
          "text": [
            "5\n",
            "4\n",
            "3\n",
            "2\n",
            "1\n"
          ]
        }
      ]
    },
    {
      "cell_type": "code",
      "source": [
        "solarsys = ['태양','수성','금성','지구','화성','목성','토성','천왕성','해왕성']\n",
        "solarsys[3] = 'Earth'\n",
        "print(solarsys)"
      ],
      "metadata": {
        "colab": {
          "base_uri": "https://localhost:8080/"
        },
        "id": "oiI9AfDZjZS6",
        "outputId": "d8de1ba4-7795-4db6-ff82-860d7465a66e"
      },
      "execution_count": null,
      "outputs": [
        {
          "output_type": "stream",
          "name": "stdout",
          "text": [
            "['태양', '수성', '금성', 'Earth', '화성', '목성', '토성', '천왕성', '해왕성']\n"
          ]
        }
      ]
    },
    {
      "cell_type": "code",
      "source": [
        "solarsys_ko = ['태양','수성','금성','지구','화성','목성','토성','천왕성','해왕성']\n",
        "solarsys_en = ['Sun','Mercury','Venus','Earth','Mars','Jupiter','Saturn','Uranus','Naptune']\n",
        "\n",
        "for i in range(len(solarsys_ko)):\n",
        "  solarsys_ko[i] = solarsys_en[i]\n",
        "print(solarsys_ko)"
      ],
      "metadata": {
        "colab": {
          "base_uri": "https://localhost:8080/"
        },
        "id": "0sDtRRJCjoaD",
        "outputId": "b42d808b-3979-441b-fd9d-bc139c9a8840"
      },
      "execution_count": null,
      "outputs": [
        {
          "output_type": "stream",
          "name": "stdout",
          "text": [
            "['Sun', 'Mercury', 'Venus', 'Earth', 'Mars', 'Jupiter', 'Saturn', 'Uranus', 'Naptune']\n"
          ]
        }
      ]
    },
    {
      "cell_type": "code",
      "source": [],
      "metadata": {
        "id": "DQ8RaT-QkNcK"
      },
      "execution_count": null,
      "outputs": []
    }
  ]
}