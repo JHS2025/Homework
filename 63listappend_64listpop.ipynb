{
  "nbformat": 4,
  "nbformat_minor": 0,
  "metadata": {
    "colab": {
      "provenance": [],
      "authorship_tag": "ABX9TyPAi/hpEpJx20XGcBH4B45K",
      "include_colab_link": true
    },
    "kernelspec": {
      "name": "python3",
      "display_name": "Python 3"
    },
    "language_info": {
      "name": "python"
    }
  },
  "cells": [
    {
      "cell_type": "markdown",
      "metadata": {
        "id": "view-in-github",
        "colab_type": "text"
      },
      "source": [
        "<a href=\"https://colab.research.google.com/github/JHS2025/Homework/blob/main/63listappend_64listpop.ipynb\" target=\"_parent\"><img src=\"https://colab.research.google.com/assets/colab-badge.svg\" alt=\"Open In Colab\"/></a>"
      ]
    },
    {
      "cell_type": "code",
      "execution_count": null,
      "metadata": {
        "id": "7vFFhvd41kAZ"
      },
      "outputs": [],
      "source": [
        "fileList = []\n",
        "for i in range(3):\n",
        "  fname = input(f'파일 이름을 입력하세요[{i+1}/3]:')\n",
        "  if fname not in fileList:\n",
        "    fileList.append(fname)\n",
        "  print(f'현재 저장된 파일들:{fileList}')"
      ]
    },
    {
      "cell_type": "code",
      "source": [
        "numbers = [14,5,18,45,10,43]\n",
        "for _ in range(len(numbers)):\n",
        "  ret = numbers.pop()\n",
        "  print(f'pop()으로 추출된 값:(ret),numbers = {numbers}')"
      ],
      "metadata": {
        "id": "tXzK00Q82oNS"
      },
      "execution_count": null,
      "outputs": []
    },
    {
      "cell_type": "code",
      "source": [
        "numbers = [14,5,18,45,10,43]\n",
        "ret = numbers.pop()\n",
        "print(f'pop()으로 추출된 값:(ret),numbers = {numbers}')\n",
        "\n"
      ],
      "metadata": {
        "id": "wZuGXy1l3egL"
      },
      "execution_count": null,
      "outputs": []
    }
  ]
}