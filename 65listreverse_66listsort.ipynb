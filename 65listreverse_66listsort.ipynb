{
  "nbformat": 4,
  "nbformat_minor": 0,
  "metadata": {
    "colab": {
      "provenance": [],
      "authorship_tag": "ABX9TyNtc2dE4q2/YxhPDCqwxZMf",
      "include_colab_link": true
    },
    "kernelspec": {
      "name": "python3",
      "display_name": "Python 3"
    },
    "language_info": {
      "name": "python"
    }
  },
  "cells": [
    {
      "cell_type": "markdown",
      "metadata": {
        "id": "view-in-github",
        "colab_type": "text"
      },
      "source": [
        "<a href=\"https://colab.research.google.com/github/JHS2025/Homework/blob/main/65listreverse_66listsort.ipynb\" target=\"_parent\"><img src=\"https://colab.research.google.com/assets/colab-badge.svg\" alt=\"Open In Colab\"/></a>"
      ]
    },
    {
      "cell_type": "code",
      "execution_count": null,
      "metadata": {
        "colab": {
          "base_uri": "https://localhost:8080/"
        },
        "id": "TdWTWKgX38WU",
        "outputId": "fedba2de-95e2-4d8a-e3a5-cea880dd98cb"
      },
      "outputs": [
        {
          "output_type": "stream",
          "name": "stdout",
          "text": [
            "[5, 4, 3, 2, 1]\n",
            "[1, 2, 3, 4, 5]\n"
          ]
        }
      ],
      "source": [
        "numbers = [1,2,3,4,5]\n",
        "ret = reversed(numbers)\n",
        "print(list(ret))\n",
        "print(numbers)"
      ]
    },
    {
      "cell_type": "code",
      "source": [
        "numbers = [1,2,3,4,5]\n",
        "numbers.reverse()\n",
        "print(numbers)"
      ],
      "metadata": {
        "colab": {
          "base_uri": "https://localhost:8080/"
        },
        "id": "0eswOk754J7r",
        "outputId": "eb9bbf7f-2273-4e30-a2cf-e161fedf675e"
      },
      "execution_count": null,
      "outputs": [
        {
          "output_type": "stream",
          "name": "stdout",
          "text": [
            "[5, 4, 3, 2, 1]\n"
          ]
        }
      ]
    },
    {
      "cell_type": "code",
      "source": [
        "nameList = ['Mary','Sams','Aemy','Tom','Michale','Bob','Kelly']\n",
        "nameList.sort()\n",
        "print(nameList)"
      ],
      "metadata": {
        "colab": {
          "base_uri": "https://localhost:8080/"
        },
        "id": "EGaVuoVI4YQZ",
        "outputId": "da171145-113a-4ba4-e6dd-04d4e4e222ba"
      },
      "execution_count": null,
      "outputs": [
        {
          "output_type": "stream",
          "name": "stdout",
          "text": [
            "['Aemy', 'Bob', 'Kelly', 'Mary', 'Michale', 'Sams', 'Tom']\n"
          ]
        }
      ]
    },
    {
      "cell_type": "code",
      "source": [
        "nameList = ['Mary','Sams','Aemy','Tom','Michale','Bob','Kelly']\n",
        "nameList.sort(reverse=True)\n",
        "print(nameList)"
      ],
      "metadata": {
        "colab": {
          "base_uri": "https://localhost:8080/"
        },
        "id": "FKLHIs_M4tGx",
        "outputId": "2988c85f-9694-427c-dddc-f682b5cf6bfb"
      },
      "execution_count": null,
      "outputs": [
        {
          "output_type": "stream",
          "name": "stdout",
          "text": [
            "['Tom', 'Sams', 'Michale', 'Mary', 'Kelly', 'Bob', 'Aemy']\n"
          ]
        }
      ]
    }
  ]
}