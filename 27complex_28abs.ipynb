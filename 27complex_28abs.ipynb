{
  "nbformat": 4,
  "nbformat_minor": 0,
  "metadata": {
    "colab": {
      "provenance": [],
      "authorship_tag": "ABX9TyMwMvO2DZ/G/m91IVQmArZa",
      "include_colab_link": true
    },
    "kernelspec": {
      "name": "python3",
      "display_name": "Python 3"
    },
    "language_info": {
      "name": "python"
    }
  },
  "cells": [
    {
      "cell_type": "markdown",
      "metadata": {
        "id": "view-in-github",
        "colab_type": "text"
      },
      "source": [
        "<a href=\"https://colab.research.google.com/github/JHS2025/Homework/blob/main/27complex_28abs.ipynb\" target=\"_parent\"><img src=\"https://colab.research.google.com/assets/colab-badge.svg\" alt=\"Open In Colab\"/></a>"
      ]
    },
    {
      "cell_type": "code",
      "source": [
        "cData1 = 1+1j\n",
        "cData2 = complex(1,1)\n",
        "print(cData1 == cData2)"
      ],
      "metadata": {
        "colab": {
          "base_uri": "https://localhost:8080/"
        },
        "id": "RBSbg8AJW0eB",
        "outputId": "e3c9e29d-e01f-4364-e0b2-a0f7d3da3c20"
      },
      "execution_count": null,
      "outputs": [
        {
          "output_type": "stream",
          "name": "stdout",
          "text": [
            "True\n"
          ]
        }
      ]
    },
    {
      "cell_type": "code",
      "execution_count": null,
      "metadata": {
        "colab": {
          "base_uri": "https://localhost:8080/"
        },
        "id": "0Ue1aKXIWzs6",
        "outputId": "8fa0cb49-2b59-4070-cf17-b6996ee21e08"
      },
      "outputs": [
        {
          "output_type": "stream",
          "name": "stdout",
          "text": [
            "1.0\n",
            "1.0\n"
          ]
        }
      ],
      "source": [
        "print(cData1.real)\n",
        "print(cData2.imag)"
      ]
    },
    {
      "cell_type": "code",
      "source": [
        "complexData1 = 1 - 5j\n",
        "complexData2 = complex(2,3)\n",
        "print(complexData1.conjugate())\n",
        "print(complexData2.conjugate())"
      ],
      "metadata": {
        "colab": {
          "base_uri": "https://localhost:8080/"
        },
        "id": "tD6Tcfi4XFy3",
        "outputId": "67b87b54-ad98-48f3-8cee-2a88c97af2e0"
      },
      "execution_count": null,
      "outputs": [
        {
          "output_type": "stream",
          "name": "stdout",
          "text": [
            "(1+5j)\n",
            "(2-3j)\n"
          ]
        }
      ]
    },
    {
      "cell_type": "code",
      "source": [
        "intData = -8\n",
        "floatData = 3.14\n",
        "complexData = 3 +4j\n",
        "print(abs(intData))\n",
        "print(abs(floatData))\n",
        "print(abs(complexData))"
      ],
      "metadata": {
        "colab": {
          "base_uri": "https://localhost:8080/"
        },
        "id": "QSwhIB4PXU7e",
        "outputId": "976e6c97-7a00-4260-ba47-f3a99b97d4b2"
      },
      "execution_count": null,
      "outputs": [
        {
          "output_type": "stream",
          "name": "stdout",
          "text": [
            "8\n",
            "3.14\n",
            "5.0\n"
          ]
        }
      ]
    }
  ]
}