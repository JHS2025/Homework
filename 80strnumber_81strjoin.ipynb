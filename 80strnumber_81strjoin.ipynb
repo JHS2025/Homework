{
  "nbformat": 4,
  "nbformat_minor": 0,
  "metadata": {
    "colab": {
      "provenance": [],
      "authorship_tag": "ABX9TyNk8MiDl04Apj+d3KenqVsX",
      "include_colab_link": true
    },
    "kernelspec": {
      "name": "python3",
      "display_name": "Python 3"
    },
    "language_info": {
      "name": "python"
    }
  },
  "cells": [
    {
      "cell_type": "markdown",
      "metadata": {
        "id": "view-in-github",
        "colab_type": "text"
      },
      "source": [
        "<a href=\"https://colab.research.google.com/github/JHS2025/Homework/blob/main/80strnumber_81strjoin.ipynb\" target=\"_parent\"><img src=\"https://colab.research.google.com/assets/colab-badge.svg\" alt=\"Open In Colab\"/></a>"
      ]
    },
    {
      "cell_type": "code",
      "execution_count": null,
      "metadata": {
        "id": "_qr8w19zPIYa"
      },
      "outputs": [],
      "source": [
        "numbers = ['1004','-1','3.14','IX','7/8','5²','50%']"
      ]
    },
    {
      "cell_type": "code",
      "source": [
        "for number in numbers:\n",
        "  print(f'\"{number}\"\\t--> {number.isdecimal()}')"
      ],
      "metadata": {
        "colab": {
          "base_uri": "https://localhost:8080/"
        },
        "id": "dW5liQAVTpL5",
        "outputId": "03ae177f-1f66-455c-e714-84e910b0f168"
      },
      "execution_count": null,
      "outputs": [
        {
          "output_type": "stream",
          "name": "stdout",
          "text": [
            "\"1004\"\t--> True\n",
            "\"-1\"\t--> False\n",
            "\"3.14\"\t--> False\n",
            "\"IX\"\t--> False\n",
            "\"7/8\"\t--> False\n",
            "\"5²\"\t--> False\n",
            "\"50%\"\t--> False\n"
          ]
        }
      ]
    },
    {
      "cell_type": "code",
      "source": [
        "for number in numbers:\n",
        "  print(f'\"{number}\"\\t--> {number.isdigit()}')"
      ],
      "metadata": {
        "colab": {
          "base_uri": "https://localhost:8080/"
        },
        "id": "DwpwtR-TTzkg",
        "outputId": "5e7f741a-4eeb-4bcb-dc98-dc4017ea380f"
      },
      "execution_count": null,
      "outputs": [
        {
          "output_type": "stream",
          "name": "stdout",
          "text": [
            "\"1004\"\t--> True\n",
            "\"-1\"\t--> False\n",
            "\"3.14\"\t--> False\n",
            "\"IX\"\t--> False\n",
            "\"7/8\"\t--> False\n",
            "\"5²\"\t--> True\n",
            "\"50%\"\t--> False\n"
          ]
        }
      ]
    },
    {
      "cell_type": "code",
      "source": [
        "for number in numbers:\n",
        "  print(f'\"{number}\"\\t--> {number.isnumeric()}')"
      ],
      "metadata": {
        "colab": {
          "base_uri": "https://localhost:8080/"
        },
        "id": "M0eWDdgaUlGA",
        "outputId": "bb4d1307-5564-47b5-ff44-3d9a95baf549"
      },
      "execution_count": null,
      "outputs": [
        {
          "output_type": "stream",
          "name": "stdout",
          "text": [
            "\"1004\"\t--> True\n",
            "\"-1\"\t--> False\n",
            "\"3.14\"\t--> False\n",
            "\"IX\"\t--> False\n",
            "\"7/8\"\t--> False\n",
            "\"5²\"\t--> True\n",
            "\"50%\"\t--> False\n"
          ]
        }
      ]
    },
    {
      "cell_type": "code",
      "source": [
        "profile = ['홍길동','남자','18세','도적','초능력자']\n",
        "logdata = ';'.join(profile)\n",
        "print(logdata)"
      ],
      "metadata": {
        "colab": {
          "base_uri": "https://localhost:8080/"
        },
        "id": "97IRKYhFUtto",
        "outputId": "b0e3c4b2-52ca-440b-8fbf-fd6dbfe7651c"
      },
      "execution_count": null,
      "outputs": [
        {
          "output_type": "stream",
          "name": "stdout",
          "text": [
            "홍길동;남자;18세;도적;초능력자\n"
          ]
        }
      ]
    },
    {
      "cell_type": "code",
      "source": [
        "profile = ['홍길동','남자',18,'도적','초능력자']\n",
        "logdata = ';'.join(profile)"
      ],
      "metadata": {
        "colab": {
          "base_uri": "https://localhost:8080/",
          "height": 166
        },
        "id": "rV5JgsZMU5TY",
        "outputId": "de699805-8ac3-4796-cee4-405c5297af36"
      },
      "execution_count": null,
      "outputs": [
        {
          "output_type": "error",
          "ename": "TypeError",
          "evalue": "sequence item 2: expected str instance, int found",
          "traceback": [
            "\u001b[0;31m---------------------------------------------------------------------------\u001b[0m",
            "\u001b[0;31mTypeError\u001b[0m                                 Traceback (most recent call last)",
            "\u001b[0;32m/tmp/ipython-input-2177496776.py\u001b[0m in \u001b[0;36m<cell line: 0>\u001b[0;34m()\u001b[0m\n\u001b[1;32m      1\u001b[0m \u001b[0mprofile\u001b[0m \u001b[0;34m=\u001b[0m \u001b[0;34m[\u001b[0m\u001b[0;34m'홍길동'\u001b[0m\u001b[0;34m,\u001b[0m\u001b[0;34m'남자'\u001b[0m\u001b[0;34m,\u001b[0m\u001b[0;36m18\u001b[0m\u001b[0;34m,\u001b[0m\u001b[0;34m'도적'\u001b[0m\u001b[0;34m,\u001b[0m\u001b[0;34m'초능력자'\u001b[0m\u001b[0;34m]\u001b[0m\u001b[0;34m\u001b[0m\u001b[0;34m\u001b[0m\u001b[0m\n\u001b[0;32m----> 2\u001b[0;31m \u001b[0mlogdata\u001b[0m \u001b[0;34m=\u001b[0m \u001b[0;34m';'\u001b[0m\u001b[0;34m.\u001b[0m\u001b[0mjoin\u001b[0m\u001b[0;34m(\u001b[0m\u001b[0mprofile\u001b[0m\u001b[0;34m)\u001b[0m\u001b[0;34m\u001b[0m\u001b[0;34m\u001b[0m\u001b[0m\n\u001b[0m",
            "\u001b[0;31mTypeError\u001b[0m: sequence item 2: expected str instance, int found"
          ]
        }
      ]
    },
    {
      "cell_type": "code",
      "source": [],
      "metadata": {
        "id": "kl6FYujSVAgI"
      },
      "execution_count": null,
      "outputs": []
    }
  ]
}