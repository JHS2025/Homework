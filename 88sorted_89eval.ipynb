{
  "nbformat": 4,
  "nbformat_minor": 0,
  "metadata": {
    "colab": {
      "provenance": [],
      "authorship_tag": "ABX9TyOgTawApBfSAD1cW4oRETi8",
      "include_colab_link": true
    },
    "kernelspec": {
      "name": "python3",
      "display_name": "Python 3"
    },
    "language_info": {
      "name": "python"
    }
  },
  "cells": [
    {
      "cell_type": "markdown",
      "metadata": {
        "id": "view-in-github",
        "colab_type": "text"
      },
      "source": [
        "<a href=\"https://colab.research.google.com/github/JHS2025/Homework/blob/main/88sorted_89eval.ipynb\" target=\"_parent\"><img src=\"https://colab.research.google.com/assets/colab-badge.svg\" alt=\"Open In Colab\"/></a>"
      ]
    },
    {
      "cell_type": "code",
      "execution_count": null,
      "metadata": {
        "colab": {
          "base_uri": "https://localhost:8080/"
        },
        "id": "qJ6_BJ0Nk-EB",
        "outputId": "54a3a2d5-114b-4663-8d53-223c2d4f295b"
      },
      "outputs": [
        {
          "output_type": "stream",
          "name": "stdout",
          "text": [
            "['1', '3', '5', 'a', 'a', 'i', 'k', 'k', 'k', 'k', 'n', 'n', 'n', 'n', 'r', 't', 'v', 'z']\n"
          ]
        }
      ],
      "source": [
        "randstr = 'nk315nnkakkavnzrit'\n",
        "ret = sorted(randstr)\n",
        "print(ret)"
      ]
    },
    {
      "cell_type": "code",
      "source": [
        "final = \".join(ret)\"\n",
        "print(final)"
      ],
      "metadata": {
        "colab": {
          "base_uri": "https://localhost:8080/"
        },
        "id": "8-lXiAEblauJ",
        "outputId": "fbe7e36e-b845-41ef-9f67-f1166cd7fdb5"
      },
      "execution_count": null,
      "outputs": [
        {
          "output_type": "stream",
          "name": "stdout",
          "text": [
            ".join(ret)\n"
          ]
        }
      ]
    },
    {
      "cell_type": "code",
      "source": [
        "expression = '123+456'\n",
        "answer = eval(expression)\n",
        "print(f'{expression}={answer}')"
      ],
      "metadata": {
        "colab": {
          "base_uri": "https://localhost:8080/"
        },
        "id": "Zs43ZyqmlnlX",
        "outputId": "d37d8c95-9566-4b37-b465-2119e5260b16"
      },
      "execution_count": null,
      "outputs": [
        {
          "output_type": "stream",
          "name": "stdout",
          "text": [
            "123+456=579\n"
          ]
        }
      ]
    },
    {
      "cell_type": "code",
      "source": [
        "expression = 'round(3.14)'\n",
        "print(f'{expression}={eval(expression)}')"
      ],
      "metadata": {
        "colab": {
          "base_uri": "https://localhost:8080/"
        },
        "id": "m75frVnHlxUP",
        "outputId": "5d81e573-e12b-4730-ca3f-e29281a91f52"
      },
      "execution_count": null,
      "outputs": [
        {
          "output_type": "stream",
          "name": "stdout",
          "text": [
            "round(3.14)=3\n"
          ]
        }
      ]
    },
    {
      "cell_type": "code",
      "source": [
        "ret = eval('안녕하세요')"
      ],
      "metadata": {
        "colab": {
          "base_uri": "https://localhost:8080/",
          "height": 184
        },
        "id": "9mavlogZmC7Q",
        "outputId": "1a23440e-a611-4a54-aebb-5f8c135f34bb"
      },
      "execution_count": null,
      "outputs": [
        {
          "output_type": "error",
          "ename": "NameError",
          "evalue": "name '안녕하세요' is not defined",
          "traceback": [
            "\u001b[0;31m---------------------------------------------------------------------------\u001b[0m",
            "\u001b[0;31mNameError\u001b[0m                                 Traceback (most recent call last)",
            "\u001b[0;32m/tmp/ipython-input-4215630329.py\u001b[0m in \u001b[0;36m<cell line: 0>\u001b[0;34m()\u001b[0m\n\u001b[0;32m----> 1\u001b[0;31m \u001b[0mret\u001b[0m \u001b[0;34m=\u001b[0m \u001b[0meval\u001b[0m\u001b[0;34m(\u001b[0m\u001b[0;34m'안녕하세요'\u001b[0m\u001b[0;34m)\u001b[0m\u001b[0;34m\u001b[0m\u001b[0;34m\u001b[0m\u001b[0m\n\u001b[0m",
            "\u001b[0;32m<string>\u001b[0m in \u001b[0;36m<module>\u001b[0;34m\u001b[0m\n",
            "\u001b[0;31mNameError\u001b[0m: name '안녕하세요' is not defined"
          ]
        }
      ]
    },
    {
      "cell_type": "code",
      "source": [],
      "metadata": {
        "id": "mDaDhHG9mE33"
      },
      "execution_count": null,
      "outputs": []
    }
  ]
}