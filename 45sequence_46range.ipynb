{
  "nbformat": 4,
  "nbformat_minor": 0,
  "metadata": {
    "colab": {
      "provenance": [],
      "authorship_tag": "ABX9TyPoR+RoddK8v8TwNgWtkrWv",
      "include_colab_link": true
    },
    "kernelspec": {
      "name": "python3",
      "display_name": "Python 3"
    },
    "language_info": {
      "name": "python"
    }
  },
  "cells": [
    {
      "cell_type": "markdown",
      "metadata": {
        "id": "view-in-github",
        "colab_type": "text"
      },
      "source": [
        "<a href=\"https://colab.research.google.com/github/JHS2025/Homework/blob/main/45sequence_46range.ipynb\" target=\"_parent\"><img src=\"https://colab.research.google.com/assets/colab-badge.svg\" alt=\"Open In Colab\"/></a>"
      ]
    },
    {
      "cell_type": "code",
      "execution_count": null,
      "metadata": {
        "id": "bCAXXOnESzDS"
      },
      "outputs": [],
      "source": [
        "listData = [1,2,3,4,5]"
      ]
    },
    {
      "cell_type": "code",
      "source": [
        "tupleData = (1,2,3,4,5)"
      ],
      "metadata": {
        "id": "2MIGzuW0TBBb"
      },
      "execution_count": null,
      "outputs": []
    },
    {
      "cell_type": "code",
      "source": [
        "strData1 = '010-1234-5678'\n",
        "strData2 = '사랑해요 파이썬!'\n",
        "strData3 = 'I love python!'"
      ],
      "metadata": {
        "id": "VPu86n9xTEOa"
      },
      "execution_count": null,
      "outputs": []
    },
    {
      "cell_type": "code",
      "source": [
        "batr = b'Hello Python!'"
      ],
      "metadata": {
        "id": "4IMSsQhnTMdz"
      },
      "execution_count": null,
      "outputs": []
    },
    {
      "cell_type": "code",
      "source": [
        "intList = range(10)\n",
        "print(list(intList))"
      ],
      "metadata": {
        "colab": {
          "base_uri": "https://localhost:8080/"
        },
        "id": "pZQN7yCCTSGq",
        "outputId": "960bfcf1-a12a-41cd-9503-f66a320ff036"
      },
      "execution_count": null,
      "outputs": [
        {
          "output_type": "stream",
          "name": "stdout",
          "text": [
            "[0, 1, 2, 3, 4, 5, 6, 7, 8, 9]\n"
          ]
        }
      ]
    },
    {
      "cell_type": "code",
      "source": [
        "intList = range(10,20)\n",
        "print(list(intList))"
      ],
      "metadata": {
        "colab": {
          "base_uri": "https://localhost:8080/"
        },
        "id": "Ttv5pfPbTWm6",
        "outputId": "029fe743-4920-468c-f25f-200c0814a0ec"
      },
      "execution_count": null,
      "outputs": [
        {
          "output_type": "stream",
          "name": "stdout",
          "text": [
            "[10, 11, 12, 13, 14, 15, 16, 17, 18, 19]\n"
          ]
        }
      ]
    },
    {
      "cell_type": "code",
      "source": [
        "intList = range(1,20,3)\n",
        "print(list(intList))"
      ],
      "metadata": {
        "colab": {
          "base_uri": "https://localhost:8080/"
        },
        "id": "NdQwjy4STcWy",
        "outputId": "b0c165ad-6533-43f8-e069-33f693ff0b94"
      },
      "execution_count": null,
      "outputs": [
        {
          "output_type": "stream",
          "name": "stdout",
          "text": [
            "[1, 4, 7, 10, 13, 16, 19]\n"
          ]
        }
      ]
    },
    {
      "cell_type": "code",
      "source": [
        "intList = [x for x in range(1,10,2)]\n",
        "print(intList)"
      ],
      "metadata": {
        "colab": {
          "base_uri": "https://localhost:8080/"
        },
        "id": "g-z0paq2Tg4q",
        "outputId": "ebb56305-ae1b-46f9-81ac-c84c5b6874d5"
      },
      "execution_count": null,
      "outputs": [
        {
          "output_type": "stream",
          "name": "stdout",
          "text": [
            "[1, 3, 5, 7, 9]\n"
          ]
        }
      ]
    },
    {
      "cell_type": "code",
      "source": [],
      "metadata": {
        "id": "pdS6j26dTlg6"
      },
      "execution_count": null,
      "outputs": []
    }
  ]
}