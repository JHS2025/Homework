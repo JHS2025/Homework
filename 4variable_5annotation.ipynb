{
  "nbformat": 4,
  "nbformat_minor": 0,
  "metadata": {
    "colab": {
      "provenance": [],
      "authorship_tag": "ABX9TyNtC2S/GzbB4XVfPTthjW6F",
      "include_colab_link": true
    },
    "kernelspec": {
      "name": "python3",
      "display_name": "Python 3"
    },
    "language_info": {
      "name": "python"
    }
  },
  "cells": [
    {
      "cell_type": "markdown",
      "metadata": {
        "id": "view-in-github",
        "colab_type": "text"
      },
      "source": [
        "<a href=\"https://colab.research.google.com/github/JHS2025/Homework/blob/main/4variable_5annotation.ipynb\" target=\"_parent\"><img src=\"https://colab.research.google.com/assets/colab-badge.svg\" alt=\"Open In Colab\"/></a>"
      ]
    },
    {
      "cell_type": "code",
      "execution_count": null,
      "metadata": {
        "id": "kleXM94R0kFN"
      },
      "outputs": [],
      "source": [
        "_myname = 'samsjang'\n",
        "my_nmae = '홍길동'\n",
        "MyName3 = 'Hong gil-dong'\n",
        "country = '대한민국'"
      ]
    },
    {
      "cell_type": "code",
      "source": [
        "1_str = '안녕하세요 파이썬!'"
      ],
      "metadata": {
        "id": "ZdwihCxz2J7K"
      },
      "execution_count": null,
      "outputs": []
    },
    {
      "cell_type": "code",
      "source": [
        "_%var = 'Temp Variables'\n",
        "@address = 'samsjang@naver.com'"
      ],
      "metadata": {
        "id": "Z5pEwVQs2OWo"
      },
      "execution_count": null,
      "outputs": []
    },
    {
      "cell_type": "code",
      "source": [
        "counter = 1\n",
        "Counter = 2"
      ],
      "metadata": {
        "id": "857pE_2v2OOk"
      },
      "execution_count": null,
      "outputs": []
    },
    {
      "cell_type": "code",
      "source": [
        "and = 1"
      ],
      "metadata": {
        "id": "7sl6Syqn3Fj7"
      },
      "execution_count": null,
      "outputs": []
    },
    {
      "cell_type": "code",
      "source": [
        "import keyword\n",
        "keyword.kwlist"
      ],
      "metadata": {
        "id": "JMZUKI_s2hMT"
      },
      "execution_count": null,
      "outputs": []
    },
    {
      "cell_type": "code",
      "source": [
        "abs = 1\n",
        "abs(-1)"
      ],
      "metadata": {
        "colab": {
          "base_uri": "https://localhost:8080/",
          "height": 166
        },
        "id": "DlPfjI7z3JDU",
        "outputId": "5a864790-0f3e-458a-c0ca-fb21913ded05"
      },
      "execution_count": null,
      "outputs": [
        {
          "output_type": "error",
          "ename": "TypeError",
          "evalue": "'int' object is not callable",
          "traceback": [
            "\u001b[0;31m---------------------------------------------------------------------------\u001b[0m",
            "\u001b[0;31mTypeError\u001b[0m                                 Traceback (most recent call last)",
            "\u001b[0;32m/tmp/ipython-input-2354836112.py\u001b[0m in \u001b[0;36m<cell line: 0>\u001b[0;34m()\u001b[0m\n\u001b[1;32m      1\u001b[0m \u001b[0mabs\u001b[0m \u001b[0;34m=\u001b[0m \u001b[0;36m1\u001b[0m\u001b[0;34m\u001b[0m\u001b[0;34m\u001b[0m\u001b[0m\n\u001b[0;32m----> 2\u001b[0;31m \u001b[0mabs\u001b[0m\u001b[0;34m(\u001b[0m\u001b[0;34m-\u001b[0m\u001b[0;36m1\u001b[0m\u001b[0;34m)\u001b[0m\u001b[0;34m\u001b[0m\u001b[0;34m\u001b[0m\u001b[0m\n\u001b[0m",
            "\u001b[0;31mTypeError\u001b[0m: 'int' object is not callable"
          ]
        }
      ]
    },
    {
      "cell_type": "code",
      "source": [
        "intData = 1\n",
        "pi = 3.14\n",
        "flag = True\n",
        "ch = 'x'\n",
        "strData = '사랑해요 파이썬!'"
      ],
      "metadata": {
        "id": "BO68r5e13Oc7"
      },
      "execution_count": null,
      "outputs": []
    },
    {
      "cell_type": "code",
      "source": [
        "buffer = 1\n",
        "buffer + 2\n",
        "buffer = 'three'"
      ],
      "metadata": {
        "id": "UPfouaoI3aBM"
      },
      "execution_count": null,
      "outputs": []
    },
    {
      "cell_type": "code",
      "source": [
        "a = 1\n",
        "b = 5\n",
        "print(a+b)"
      ],
      "metadata": {
        "colab": {
          "base_uri": "https://localhost:8080/"
        },
        "id": "krz_ZS2C3ucT",
        "outputId": "57a0c813-b49e-42a4-9363-33dab1c49a78"
      },
      "execution_count": null,
      "outputs": [
        {
          "output_type": "stream",
          "name": "stdout",
          "text": [
            "6\n"
          ]
        }
      ]
    },
    {
      "cell_type": "code",
      "source": [
        "comment = 'Result ='\n",
        "\"\"\"a = 1\n",
        "b = 100\n",
        "print(a+b)\"\"\"\n",
        "\n",
        "a = 5\n",
        "b = 50\n",
        "print(comment, a+b)"
      ],
      "metadata": {
        "colab": {
          "base_uri": "https://localhost:8080/"
        },
        "id": "jCc0YnxE4F3r",
        "outputId": "16ce15d2-292d-4b1a-a4d9-caa3193196a1"
      },
      "execution_count": null,
      "outputs": [
        {
          "output_type": "stream",
          "name": "stdout",
          "text": [
            "Result = 55\n"
          ]
        }
      ]
    },
    {
      "cell_type": "code",
      "source": [],
      "metadata": {
        "id": "QYR0l92V4Irj"
      },
      "execution_count": null,
      "outputs": []
    }
  ]
}