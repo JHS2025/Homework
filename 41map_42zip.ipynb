{
  "nbformat": 4,
  "nbformat_minor": 0,
  "metadata": {
    "colab": {
      "provenance": [],
      "authorship_tag": "ABX9TyNZgOW2r4DY5tf238A6JynM",
      "include_colab_link": true
    },
    "kernelspec": {
      "name": "python3",
      "display_name": "Python 3"
    },
    "language_info": {
      "name": "python"
    }
  },
  "cells": [
    {
      "cell_type": "markdown",
      "metadata": {
        "id": "view-in-github",
        "colab_type": "text"
      },
      "source": [
        "<a href=\"https://colab.research.google.com/github/JHS2025/Homework/blob/main/41map_42zip.ipynb\" target=\"_parent\"><img src=\"https://colab.research.google.com/assets/colab-badge.svg\" alt=\"Open In Colab\"/></a>"
      ]
    },
    {
      "cell_type": "code",
      "execution_count": null,
      "metadata": {
        "colab": {
          "base_uri": "https://localhost:8080/"
        },
        "id": "0pLTSKpWPt8Y",
        "outputId": "0d7764f4-e2eb-4dde-f6ba-28a0dfff1c58"
      },
      "outputs": [
        {
          "output_type": "stream",
          "name": "stdout",
          "text": [
            "[0, 1, 4, 9]\n"
          ]
        }
      ],
      "source": [
        "def myfunc(x):\n",
        "  return x**2\n",
        "\n",
        "\n",
        "results = map(myfunc, [0,1,2,3])\n",
        "print(list(results))"
      ]
    },
    {
      "cell_type": "code",
      "source": [
        "results = map(lambda x:x**2,range(4))\n",
        "print(list(results))"
      ],
      "metadata": {
        "colab": {
          "base_uri": "https://localhost:8080/"
        },
        "id": "s2CKJ9VEQFh8",
        "outputId": "d66b9d00-6b05-443e-db73-3ad5e561abf7"
      },
      "execution_count": null,
      "outputs": [
        {
          "output_type": "stream",
          "name": "stdout",
          "text": [
            "[0, 1, 4, 9]\n"
          ]
        }
      ]
    },
    {
      "cell_type": "code",
      "source": [
        "X = [1,2,3,4,5]\n",
        "Y = [10,9,8,7,6]\n",
        "ret = map(lambda x,y:x**2+y,X,Y)\n",
        "print(list(ret))"
      ],
      "metadata": {
        "colab": {
          "base_uri": "https://localhost:8080/"
        },
        "id": "dOgKjoWoQQCD",
        "outputId": "3dc1b9c1-95db-4f5f-b740-3c3223af4e9f"
      },
      "execution_count": null,
      "outputs": [
        {
          "output_type": "stream",
          "name": "stdout",
          "text": [
            "[11, 13, 17, 23, 31]\n"
          ]
        }
      ]
    },
    {
      "cell_type": "code",
      "source": [
        "male = ['슈퍼맨','심봉사','로미오','이몽룡','마루치']\n",
        "female = ['원더우먼','뻥덕어멈','줄리엣','성춘향','아라치']\n",
        "couples = zip(male,female)\n",
        "for couple in couples:\n",
        "  print(couple)"
      ],
      "metadata": {
        "colab": {
          "base_uri": "https://localhost:8080/"
        },
        "id": "Exiue-fQQewr",
        "outputId": "faad25f5-a14a-44dc-820a-03397e54c97e"
      },
      "execution_count": null,
      "outputs": [
        {
          "output_type": "stream",
          "name": "stdout",
          "text": [
            "('슈퍼맨', '원더우먼')\n",
            "('심봉사', '뻥덕어멈')\n",
            "('로미오', '줄리엣')\n",
            "('이몽룡', '성춘향')\n",
            "('마루치', '아라치')\n"
          ]
        }
      ]
    },
    {
      "cell_type": "code",
      "source": [
        "male = ['슈퍼맨','심봉사','로미오']\n",
        "female = ['원더우먼','뻥덕어멈','줄리엣','성춘향','아라치']\n",
        "for couple in zip(male,female):\n",
        "  print(couple)\n"
      ],
      "metadata": {
        "colab": {
          "base_uri": "https://localhost:8080/"
        },
        "id": "18ZpVmYTQwLU",
        "outputId": "4d5dc20a-694e-4ebc-b6c6-ec9ece204367"
      },
      "execution_count": null,
      "outputs": [
        {
          "output_type": "stream",
          "name": "stdout",
          "text": [
            "('슈퍼맨', '원더우먼')\n",
            "('심봉사', '뻥덕어멈')\n",
            "('로미오', '줄리엣')\n"
          ]
        }
      ]
    }
  ]
}