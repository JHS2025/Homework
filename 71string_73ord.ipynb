{
  "nbformat": 4,
  "nbformat_minor": 0,
  "metadata": {
    "colab": {
      "provenance": [],
      "authorship_tag": "ABX9TyO9O8Am4KDLuofAqU88HqYE",
      "include_colab_link": true
    },
    "kernelspec": {
      "name": "python3",
      "display_name": "Python 3"
    },
    "language_info": {
      "name": "python"
    }
  },
  "cells": [
    {
      "cell_type": "markdown",
      "metadata": {
        "id": "view-in-github",
        "colab_type": "text"
      },
      "source": [
        "<a href=\"https://colab.research.google.com/github/JHS2025/Homework/blob/main/71string_73ord.ipynb\" target=\"_parent\"><img src=\"https://colab.research.google.com/assets/colab-badge.svg\" alt=\"Open In Colab\"/></a>"
      ]
    },
    {
      "cell_type": "code",
      "execution_count": null,
      "metadata": {
        "id": "9C4QzEbH9_vf"
      },
      "outputs": [],
      "source": [
        "strData1 = '안녕하세요'\n",
        "strData2 = '작은따옴표는 \"큰따옴표\"를 포함하는 문자열이 가능합니다.'\n",
        "print(strData1)\n",
        "print(strData2)"
      ]
    },
    {
      "cell_type": "code",
      "source": [
        "strData3 = \"안녕하세요\"\n",
        "strData4 = \"큰따옴표는 '작은따옴표'를 포함하는 문자열이 가능합니다\"\n",
        "print(strData3)\n",
        "print(strData4)"
      ],
      "metadata": {
        "colab": {
          "base_uri": "https://localhost:8080/"
        },
        "id": "mQbR82Pz-qKy",
        "outputId": "49d97bc2-870f-4d1d-b476-485b87588c7b"
      },
      "execution_count": null,
      "outputs": [
        {
          "output_type": "stream",
          "name": "stdout",
          "text": [
            "안녕하세요\n",
            "큰따옴표는 '작은따옴표'를 포함하는 문자열이 가능합니다\n"
          ]
        }
      ]
    },
    {
      "cell_type": "code",
      "source": [
        "strData5 = '''3중 작은따옴표는\n",
        "여러 줄에 걸친 물자열이 가능합니다'''\n",
        "print(strData5)"
      ],
      "metadata": {
        "colab": {
          "base_uri": "https://localhost:8080/"
        },
        "id": "lk3IMOGuCS6M",
        "outputId": "c94c8fb0-489c-4bf8-ca3c-2b420d8eb54b"
      },
      "execution_count": null,
      "outputs": [
        {
          "output_type": "stream",
          "name": "stdout",
          "text": [
            "3중 작은따옴표는\n",
            "여러 줄에 걸친 물자열이 가능합니다\n"
          ]
        }
      ]
    },
    {
      "cell_type": "code",
      "source": [
        "strData6 = \"\"\"3중 큰따옴표 역시\n",
        "여러 줄에 걸친 문자열이 가능합니다\"\"\"\n",
        "print(strData6)"
      ],
      "metadata": {
        "colab": {
          "base_uri": "https://localhost:8080/"
        },
        "id": "pvgTO7wsCbjz",
        "outputId": "1082527d-1a63-4040-a66f-85e2d53b609f"
      },
      "execution_count": null,
      "outputs": [
        {
          "output_type": "stream",
          "name": "stdout",
          "text": [
            "3중 큰따옴표 역시\n",
            "여러 줄에 걸친 문자열이 가능합니다\n"
          ]
        }
      ]
    },
    {
      "cell_type": "code",
      "source": [
        "while True:\n",
        "  ch = input('문자 1개를 입력하세요[끝내려면 엔터를 치세요]:')\n",
        "  if len(ch) == 0:\n",
        "    break\n",
        "  ch = ch[0]\n",
        "  code = ord(ch)\n",
        "  print(f'--> 문자 \"{ch}의 코드값:{hex(code)}')"
      ],
      "metadata": {
        "id": "88iYzLMpDASC"
      },
      "execution_count": null,
      "outputs": []
    }
  ]
}