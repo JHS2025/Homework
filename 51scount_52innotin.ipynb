{
  "nbformat": 4,
  "nbformat_minor": 0,
  "metadata": {
    "colab": {
      "provenance": [],
      "authorship_tag": "ABX9TyMWE8s3cwg8jjPYZm9GkGcp",
      "include_colab_link": true
    },
    "kernelspec": {
      "name": "python3",
      "display_name": "Python 3"
    },
    "language_info": {
      "name": "python"
    }
  },
  "cells": [
    {
      "cell_type": "markdown",
      "metadata": {
        "id": "view-in-github",
        "colab_type": "text"
      },
      "source": [
        "<a href=\"https://colab.research.google.com/github/JHS2025/Homework/blob/main/51scount_52innotin.ipynb\" target=\"_parent\"><img src=\"https://colab.research.google.com/assets/colab-badge.svg\" alt=\"Open In Colab\"/></a>"
      ]
    },
    {
      "cell_type": "code",
      "execution_count": null,
      "metadata": {
        "colab": {
          "base_uri": "https://localhost:8080/"
        },
        "id": "GD3l3BNiYrlU",
        "outputId": "e1041043-ca77-46dd-93ca-a937501d8f39"
      },
      "outputs": [
        {
          "output_type": "stream",
          "name": "stdout",
          "text": [
            "3\n"
          ]
        }
      ],
      "source": [
        "lyrics = 'A lot of things occur each day! every day!'\n",
        "print(lyrics.count('o'))"
      ]
    },
    {
      "cell_type": "code",
      "source": [
        "lyrics = 'A lot of things occur each day! every day!'\n",
        "print(lyrics.count('day'))"
      ],
      "metadata": {
        "colab": {
          "base_uri": "https://localhost:8080/"
        },
        "id": "izs92yezbRL7",
        "outputId": "f5fe0022-a948-403f-ec92-310ce5d6cf96"
      },
      "execution_count": null,
      "outputs": [
        {
          "output_type": "stream",
          "name": "stdout",
          "text": [
            "2\n"
          ]
        }
      ]
    },
    {
      "cell_type": "code",
      "source": [
        "lyrics = 'A lot of things occur each day! every day!'\n",
        "print(lyrics.count(' '))"
      ],
      "metadata": {
        "colab": {
          "base_uri": "https://localhost:8080/"
        },
        "id": "C-X-p55tbXky",
        "outputId": "62b9fede-5c0c-4643-ea5a-734399304352"
      },
      "execution_count": null,
      "outputs": [
        {
          "output_type": "stream",
          "name": "stdout",
          "text": [
            "8\n"
          ]
        }
      ]
    },
    {
      "cell_type": "code",
      "source": [
        "listData = [1,6,1,4,8,4,12,1,0,9,9,7,4,3,6,7,3,2]\n",
        "print(listData.count(1))"
      ],
      "metadata": {
        "colab": {
          "base_uri": "https://localhost:8080/"
        },
        "id": "CYqBTb8rbdHq",
        "outputId": "220bfef4-0310-4b8f-9542-eb33de559242"
      },
      "execution_count": null,
      "outputs": [
        {
          "output_type": "stream",
          "name": "stdout",
          "text": [
            "3\n"
          ]
        }
      ]
    },
    {
      "cell_type": "code",
      "source": [
        "lyrics = 'A lot of things occur each day! every day!'\n",
        "flag = 'things' in lyrics\n",
        "print(flag)"
      ],
      "metadata": {
        "colab": {
          "base_uri": "https://localhost:8080/"
        },
        "id": "y9xuxCD-b7MC",
        "outputId": "7be59a71-1d73-49c4-8d23-f7144e8d9567"
      },
      "execution_count": null,
      "outputs": [
        {
          "output_type": "stream",
          "name": "stdout",
          "text": [
            "True\n"
          ]
        }
      ]
    },
    {
      "cell_type": "code",
      "source": [
        "lyrics ='A lot of things occur each day! every day!'\n",
        "flag = 'today' not in lyrics\n",
        "print(flag)"
      ],
      "metadata": {
        "colab": {
          "base_uri": "https://localhost:8080/"
        },
        "id": "nm2DexS_cD-6",
        "outputId": "183fd65e-8f66-4310-cc23-cf910d6295eb"
      },
      "execution_count": null,
      "outputs": [
        {
          "output_type": "stream",
          "name": "stdout",
          "text": [
            "True\n"
          ]
        }
      ]
    },
    {
      "cell_type": "code",
      "source": [
        "urlList = ['url1','url2','url3']\n",
        "if 'url4' in urlList:\n",
        "  print('url4가 urlList의 요소로 존재합니다.')\n",
        "else:\n",
        "  print('url4가 urlList의 요소로 존재하지 않습니다.')"
      ],
      "metadata": {
        "colab": {
          "base_uri": "https://localhost:8080/"
        },
        "id": "2QLdjsjQcgLi",
        "outputId": "6fd46015-194c-41e6-bf42-372dbb0d0011"
      },
      "execution_count": null,
      "outputs": [
        {
          "output_type": "stream",
          "name": "stdout",
          "text": [
            "url4가 urlList의 요소로 존재하지 않습니다.\n"
          ]
        }
      ]
    }
  ]
}