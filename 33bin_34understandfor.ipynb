{
  "nbformat": 4,
  "nbformat_minor": 0,
  "metadata": {
    "colab": {
      "provenance": [],
      "authorship_tag": "ABX9TyNapcDvzIb04Oz8HI9zxe8X",
      "include_colab_link": true
    },
    "kernelspec": {
      "name": "python3",
      "display_name": "Python 3"
    },
    "language_info": {
      "name": "python"
    }
  },
  "cells": [
    {
      "cell_type": "markdown",
      "metadata": {
        "id": "view-in-github",
        "colab_type": "text"
      },
      "source": [
        "<a href=\"https://colab.research.google.com/github/JHS2025/Homework/blob/main/33bin_34understandfor.ipynb\" target=\"_parent\"><img src=\"https://colab.research.google.com/assets/colab-badge.svg\" alt=\"Open In Colab\"/></a>"
      ]
    },
    {
      "cell_type": "code",
      "execution_count": null,
      "metadata": {
        "colab": {
          "base_uri": "https://localhost:8080/"
        },
        "id": "9KoEGujLqDme",
        "outputId": "fff30995-4644-461d-84e1-b6ad2b6a501e"
      },
      "outputs": [
        {
          "output_type": "stream",
          "name": "stdout",
          "text": [
            "0b1100001\n",
            "0b1100010\n"
          ]
        }
      ],
      "source": [
        "b1 = bin(97)\n",
        "b2 = bin(98)\n",
        "print(b1)\n",
        "print(b2)"
      ]
    },
    {
      "cell_type": "code",
      "source": [
        "print(b1+b2)"
      ],
      "metadata": {
        "colab": {
          "base_uri": "https://localhost:8080/"
        },
        "id": "HK8c83FBqJbN",
        "outputId": "916f6397-19f4-4803-b67f-f098932e71ae"
      },
      "execution_count": null,
      "outputs": [
        {
          "output_type": "stream",
          "name": "stdout",
          "text": [
            "0b11000010b1100010\n"
          ]
        }
      ]
    },
    {
      "cell_type": "code",
      "source": [
        "binStr1 = '0b1011'\n",
        "binStr2 = '0b1001'\n",
        "int1 = int(binStr1, base=2)\n",
        "int2 = int(binStr2, base=2)\n",
        "binAnswer = bin(int1+int2)\n",
        "print(f'{binStr1}+{binStr2}={binAnswer}')"
      ],
      "metadata": {
        "colab": {
          "base_uri": "https://localhost:8080/"
        },
        "id": "ymqXG-HZqLie",
        "outputId": "893e3ec6-5900-4350-fbd1-591f7231eb12"
      },
      "execution_count": null,
      "outputs": [
        {
          "output_type": "stream",
          "name": "stdout",
          "text": [
            "0b1011+0b1001=0b10100\n"
          ]
        }
      ]
    },
    {
      "cell_type": "code",
      "source": [
        "iterableData1 = [1,2,3,4,5]\n",
        "iterableData2 = ('a','b','c')\n",
        "iterableData3 = 'I love python!'\n",
        "iterableData6 = range(10)\n",
        "iterableData4 = {97:'a',98:'b'}\n",
        "iterableData5 = {'사과','배','오렌지'}"
      ],
      "metadata": {
        "id": "j-1kiAh0qPbh"
      },
      "execution_count": null,
      "outputs": []
    }
  ]
}